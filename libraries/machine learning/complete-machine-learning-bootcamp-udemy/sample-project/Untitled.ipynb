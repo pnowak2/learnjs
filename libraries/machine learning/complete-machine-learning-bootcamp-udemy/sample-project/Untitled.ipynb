{
 "cells": [
  {
   "cell_type": "code",
   "execution_count": 1,
   "id": "14be69ae-8291-4dff-a5c1-f8bb9ce45d2a",
   "metadata": {},
   "outputs": [
    {
     "data": {
      "text/plain": [
       "4"
      ]
     },
     "execution_count": 1,
     "metadata": {},
     "output_type": "execute_result"
    }
   ],
   "source": [
    "2+2"
   ]
  },
  {
   "cell_type": "code",
   "execution_count": 2,
   "id": "08a101b0-4573-4dc4-bad9-c87eddd5df83",
   "metadata": {},
   "outputs": [],
   "source": [
    "import sklearn as sl"
   ]
  },
  {
   "cell_type": "code",
   "execution_count": 3,
   "id": "d73f0092-e360-44fc-9bef-48ffaeb05e69",
   "metadata": {},
   "outputs": [],
   "source": [
    "import matplotlib as ml"
   ]
  },
  {
   "cell_type": "code",
   "execution_count": 4,
   "id": "8fc5262d-3389-4aa1-8bda-3d4686a5a257",
   "metadata": {},
   "outputs": [],
   "source": [
    "import numpy as np"
   ]
  },
  {
   "cell_type": "code",
   "execution_count": 5,
   "id": "ea8b05d9-e236-4b67-b82e-1f31479365a4",
   "metadata": {},
   "outputs": [],
   "source": [
    "import pandas as pd"
   ]
  },
  {
   "cell_type": "code",
   "execution_count": 6,
   "id": "40dec694-120a-401a-ac06-2df81cac983a",
   "metadata": {},
   "outputs": [
    {
     "data": {
      "text/plain": [
       "<module 'sklearn' from '/Users/pnowak/Documents/Workspace/learnjs/libraries/machine learning/complete-machine-learning-bootcamp-udemy/sample-project/env/lib/python3.13/site-packages/sklearn/__init__.py'>"
      ]
     },
     "execution_count": 6,
     "metadata": {},
     "output_type": "execute_result"
    }
   ],
   "source": [
    "sl"
   ]
  },
  {
   "cell_type": "code",
   "execution_count": 7,
   "id": "68028bb0-435f-47bf-86bf-a8c636633b0a",
   "metadata": {},
   "outputs": [
    {
     "data": {
      "text/plain": [
       "<module 'matplotlib' from '/Users/pnowak/Documents/Workspace/learnjs/libraries/machine learning/complete-machine-learning-bootcamp-udemy/sample-project/env/lib/python3.13/site-packages/matplotlib/__init__.py'>"
      ]
     },
     "execution_count": 7,
     "metadata": {},
     "output_type": "execute_result"
    }
   ],
   "source": [
    "ml"
   ]
  },
  {
   "cell_type": "code",
   "execution_count": 8,
   "id": "822ffb21-aa52-4488-ae87-65d24c4c982e",
   "metadata": {},
   "outputs": [
    {
     "data": {
      "text/plain": [
       "<module 'numpy' from '/Users/pnowak/Documents/Workspace/learnjs/libraries/machine learning/complete-machine-learning-bootcamp-udemy/sample-project/env/lib/python3.13/site-packages/numpy/__init__.py'>"
      ]
     },
     "execution_count": 8,
     "metadata": {},
     "output_type": "execute_result"
    }
   ],
   "source": [
    "np"
   ]
  },
  {
   "cell_type": "code",
   "execution_count": 9,
   "id": "6cdcd1fe-7c4d-4dd9-9d11-4a87e421d366",
   "metadata": {},
   "outputs": [
    {
     "data": {
      "text/plain": [
       "<module 'pandas' from '/Users/pnowak/Documents/Workspace/learnjs/libraries/machine learning/complete-machine-learning-bootcamp-udemy/sample-project/env/lib/python3.13/site-packages/pandas/__init__.py'>"
      ]
     },
     "execution_count": 9,
     "metadata": {},
     "output_type": "execute_result"
    }
   ],
   "source": [
    "pd"
   ]
  },
  {
   "cell_type": "code",
   "execution_count": 1,
   "id": "3f4b57db-5bb7-43e0-af08-a30d7738e714",
   "metadata": {},
   "outputs": [],
   "source": [
    "lst = [1, 2, 3][2:]"
   ]
  },
  {
   "cell_type": "code",
   "execution_count": 2,
   "id": "faeb0ac8",
   "metadata": {},
   "outputs": [
    {
     "data": {
      "text/plain": [
       "[3]"
      ]
     },
     "execution_count": 2,
     "metadata": {},
     "output_type": "execute_result"
    }
   ],
   "source": [
    "lst"
   ]
  },
  {
   "cell_type": "code",
   "execution_count": 1,
   "id": "50b066bd",
   "metadata": {},
   "outputs": [
    {
     "ename": "NameError",
     "evalue": "name 'pd' is not defined",
     "output_type": "error",
     "traceback": [
      "\u001b[31m---------------------------------------------------------------------------\u001b[39m",
      "\u001b[31mNameError\u001b[39m                                 Traceback (most recent call last)",
      "\u001b[36mCell\u001b[39m\u001b[36m \u001b[39m\u001b[32mIn[1]\u001b[39m\u001b[32m, line 1\u001b[39m\n\u001b[32m----> \u001b[39m\u001b[32m1\u001b[39m pd\n",
      "\u001b[31mNameError\u001b[39m: name 'pd' is not defined"
     ]
    }
   ],
   "source": [
    "pd"
   ]
  },
  {
   "cell_type": "code",
   "execution_count": 2,
   "id": "92ca5bcf-40d0-4677-8464-7acfdcb849d7",
   "metadata": {},
   "outputs": [],
   "source": [
    "import pandas as pd"
   ]
  },
  {
   "cell_type": "code",
   "execution_count": 3,
   "id": "3f5b2fb8-dc0b-4f3c-8bf4-93e6985116f4",
   "metadata": {},
   "outputs": [
    {
     "data": {
      "text/plain": [
       "<module 'pandas' from '/Users/pnowak/Documents/Workspace/learnjs/libraries/machine learning/complete-machine-learning-bootcamp-udemy/sample-project/env/lib/python3.13/site-packages/pandas/__init__.py'>"
      ]
     },
     "execution_count": 3,
     "metadata": {},
     "output_type": "execute_result"
    }
   ],
   "source": [
    "pd"
   ]
  },
  {
   "cell_type": "code",
   "execution_count": 4,
   "id": "9a3efb79-c7b6-4773-aace-25777ff509e7",
   "metadata": {},
   "outputs": [
    {
     "data": {
      "text/plain": [
       "<module 'pandas' from '/Users/pnowak/Documents/Workspace/learnjs/libraries/machine learning/complete-machine-learning-bootcamp-udemy/sample-project/env/lib/python3.13/site-packages/pandas/__init__.py'>"
      ]
     },
     "execution_count": 4,
     "metadata": {},
     "output_type": "execute_result"
    }
   ],
   "source": [
    "pd"
   ]
  },
  {
   "cell_type": "code",
   "execution_count": null,
   "id": "8bc7ad5e-68bc-4988-a178-6eaed0e9fb06",
   "metadata": {},
   "outputs": [],
   "source": []
  }
 ],
 "metadata": {
  "kernelspec": {
   "display_name": "Python 3 (ipykernel)",
   "language": "python",
   "name": "python3"
  },
  "language_info": {
   "codemirror_mode": {
    "name": "ipython",
    "version": 3
   },
   "file_extension": ".py",
   "mimetype": "text/x-python",
   "name": "python",
   "nbconvert_exporter": "python",
   "pygments_lexer": "ipython3",
   "version": "3.13.5"
  }
 },
 "nbformat": 4,
 "nbformat_minor": 5
}
