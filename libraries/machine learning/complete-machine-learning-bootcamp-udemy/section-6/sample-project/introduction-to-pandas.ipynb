{
 "cells": [
  {
   "cell_type": "code",
   "execution_count": null,
   "id": "e3a58bad-65f7-4b6c-9a54-5bbc82952c08",
   "metadata": {},
   "outputs": [],
   "source": []
  }
 ],
 "metadata": {
  "kernelspec": {
   "display_name": "",
   "name": ""
  },
  "language_info": {
   "name": ""
  }
 },
 "nbformat": 4,
 "nbformat_minor": 5
}
